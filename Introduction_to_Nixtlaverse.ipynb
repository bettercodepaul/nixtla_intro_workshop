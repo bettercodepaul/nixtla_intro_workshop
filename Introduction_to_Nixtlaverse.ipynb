{
  "cells": [
    {
      "cell_type": "markdown",
      "metadata": {},
      "source": [
        "<a target=\"_blank\" href=\"https://colab.research.google.com/github/bettercodepaul/nixtla_intro_workshop/blob/main/Introduction_to_Nixtlaverse.ipynb\">\n",
        "    <img src=\"https://colab.research.google.com/assets/colab-badge.svg\" alt=\"Open In Colab\"/>\n",
        "</a>"
      ]
    },
    {
      "cell_type": "markdown",
      "metadata": {
        "id": "cLXb0BBRFy7C"
      },
      "source": [
        "# Introduction to Forecasting with Nixtla's Nixtlaverse\n",
        "\n",
        "This notebook walks you through the very basics of forecasting time series with Nixtla's Nixtlaverse."
      ]
    },
    {
      "cell_type": "markdown",
      "metadata": {
        "id": "IQ7KgpyEGTs5"
      },
      "source": [
        "## Install and import necessary libraries\n",
        "\n",
        "We use [Polars](https://docs.pola.rs/) for data wrangling, [Plotly](https://plotly.com/python/plotly-express/) for visualizations and Nixtla's [StatsForecast](https://nixtlaverse.nixtla.io/statsforecast/index.html) for basic time series forecasting."
      ]
    },
    {
      "cell_type": "code",
      "execution_count": null,
      "metadata": {
        "id": "wK4r_pvhQDOi"
      },
      "outputs": [],
      "source": [
        "pip -q install statsforecast polars plotly"
      ]
    },
    {
      "cell_type": "code",
      "execution_count": null,
      "metadata": {
        "id": "LWDpn06iP2VY"
      },
      "outputs": [],
      "source": [
        "import polars as pl\n",
        "import plotly.express as px\n",
        "from statsforecast import StatsForecast\n",
        "from datetime import date"
      ]
    },
    {
      "cell_type": "markdown",
      "metadata": {
        "id": "us-tgF0XGoy7"
      },
      "source": [
        "## Initial Exploration of the data\n",
        "\n",
        "The data for this walk through is simple monthly sales data from various countries."
      ]
    },
    {
      "cell_type": "code",
      "execution_count": null,
      "metadata": {
        "colab": {
          "base_uri": "https://localhost:8080/",
          "height": 252
        },
        "id": "-qgnbWMtP7w3",
        "outputId": "ad500f9b-7988-45c9-93b1-42b4c50e96eb"
      },
      "outputs": [],
      "source": [
        "df = pl.read_parquet(\"https://github.com/bettercodepaul/nixtla_intro_workshop/raw/refs/heads/main/retail_sales.parquet\")\n",
        "df.sample(5)"
      ]
    },
    {
      "cell_type": "markdown",
      "metadata": {
        "id": "oL0YKBwvIDAk"
      },
      "source": [
        "We can visualize the time series with Plotly."
      ]
    },
    {
      "cell_type": "code",
      "execution_count": null,
      "metadata": {
        "colab": {
          "base_uri": "https://localhost:8080/",
          "height": 542
        },
        "id": "QFpv7_4Z_Uhl",
        "outputId": "af7998cb-23b1-4b9f-aeef-5525070d58e6"
      },
      "outputs": [],
      "source": [
        "# Plotly comes with useful interactive features: zoom, hover and trace isolation in the legend via click/double click\n",
        "px.line(df, x=\"date\", y=\"sales\", color=\"country\")"
      ]
    },
    {
      "cell_type": "code",
      "execution_count": null,
      "metadata": {
        "colab": {
          "base_uri": "https://localhost:8080/",
          "height": 817
        },
        "id": "zZC_aFdMFTP-",
        "outputId": "b703cbaf-f1f8-4b86-dbe1-486420127d85"
      },
      "outputs": [],
      "source": [
        "# too many overlapping lines? We can use a facet plot\n",
        "fig = px.line(df, x=\"date\", y=\"sales\", facet_col=\"country\", facet_col_wrap=2)\n",
        "fig.update_yaxes(matches=None)\n",
        "fig.update_layout(height=800)\n",
        "fig.show()"
      ]
    },
    {
      "cell_type": "markdown",
      "metadata": {
        "id": "_QKZDZv7H5Es"
      },
      "source": [
        "# Hands-on\n",
        "\n",
        "Explore the time series! What do you find interesting? Are there any obvious patterns? Are there any outliers? What could be the reasons?"
      ]
    },
    {
      "cell_type": "code",
      "execution_count": null,
      "metadata": {
        "id": "RI_G2Q2EIi8V"
      },
      "outputs": [],
      "source": [
        "# you can either code here your own explorations or just use the interactive diagrams above"
      ]
    },
    {
      "cell_type": "markdown",
      "metadata": {
        "id": "psTTwljLIqAL"
      },
      "source": [
        "## Forecasting using Nixtla's StatsForecast\n",
        "\n",
        "Nixtla's StatsForecast package comes with a lot of classic forecasting algorithms. If you would like to know more details we highly recommend the free [\"Forecasting: Principles and Practice, the Pythonic Way\"](https://otexts.com/fpppy/) by Rob Hyndman.\n",
        "\n",
        "Nixtla expects the data to be named in a certain way, so we start with that renaming."
      ]
    },
    {
      "cell_type": "code",
      "execution_count": null,
      "metadata": {
        "id": "xRZYKrzV_z2t"
      },
      "outputs": [],
      "source": [
        "Y_df = df.rename(\n",
        "    {\n",
        "        \"date\": \"ds\",\n",
        "        \"sales\": \"y\",\n",
        "        \"country\": \"unique_id\",\n",
        "    }\n",
        ")"
      ]
    },
    {
      "cell_type": "code",
      "execution_count": null,
      "metadata": {
        "colab": {
          "base_uri": "https://localhost:8080/",
          "height": 875
        },
        "id": "CyHn0Jkc_3LE",
        "outputId": "01494f19-811b-47d4-fd39-204abb9613d7"
      },
      "outputs": [],
      "source": [
        "# Nixtla supports plotting time series, but not as nice as with Plotly\n",
        "StatsForecast.plot(Y_df)"
      ]
    },
    {
      "cell_type": "code",
      "execution_count": null,
      "metadata": {
        "id": "B-hPzz4B_7yG"
      },
      "outputs": [],
      "source": [
        "from statsforecast.models import (\n",
        "    HistoricAverage,\n",
        "    SeasonalNaive,\n",
        "    HoltWinters,\n",
        "    AutoARIMA,\n",
        ")\n",
        "models = [\n",
        "    HistoricAverage(),\n",
        "    SeasonalNaive(season_length=12),\n",
        "    HoltWinters(season_length=12),\n",
        "    AutoARIMA(season_length=12),\n",
        "]"
      ]
    },
    {
      "cell_type": "code",
      "execution_count": null,
      "metadata": {
        "id": "EJoeUuS4BvwW"
      },
      "outputs": [],
      "source": [
        "sf = StatsForecast(\n",
        "    models=models,\n",
        "    freq=\"1mo\",\n",
        ")"
      ]
    },
    {
      "cell_type": "code",
      "execution_count": null,
      "metadata": {
        "colab": {
          "base_uri": "https://localhost:8080/",
          "height": 252
        },
        "id": "zGJhT038Ao1S",
        "outputId": "ddc76913-848e-4e33-e476-7e8f543ffbe3"
      },
      "outputs": [],
      "source": [
        "forecasts_df = sf.forecast(df=Y_df, h=48)\n",
        "forecasts_df.head()"
      ]
    },
    {
      "cell_type": "code",
      "execution_count": null,
      "metadata": {
        "colab": {
          "base_uri": "https://localhost:8080/",
          "height": 817
        },
        "id": "pk7JgBzVKF6L",
        "outputId": "d4616900-f86d-4fda-cc89-452968623527"
      },
      "outputs": [],
      "source": [
        "# this is the Plotly equivalent to sf.plot(Y_df, forecasts_df)\n",
        "plot_df = pl.concat([Y_df, forecasts_df], how=\"diagonal\")\n",
        "#plot_df = plot_df.filter(pl.col(\"unique_id\").is_in([\"Italien\", \"Japan\"]))\n",
        "#plot_df = plot_df.select(\"unique_id\", \"ds\", \"y\", \"SeasonalNaive\", \"AutoARIMA\")\n",
        "y_columns = [c for c in plot_df.columns if c not in [\"unique_id\", \"ds\"]]\n",
        "fig = px.line(plot_df, x=\"ds\", y=y_columns, facet_col=\"unique_id\", facet_col_wrap=2)\n",
        "fig.update_yaxes(matches=None)\n",
        "fig.update_layout(height=800)\n",
        "fig.show()"
      ]
    },
    {
      "cell_type": "markdown",
      "metadata": {
        "id": "2ZowsR1HL_3B"
      },
      "source": [
        "## Hands-on\n",
        "\n",
        "Explore the forecasts! What do you find interesting? Are the models capable of reproducing the seasonal patterns? Is there a model you would prefer over the others?"
      ]
    },
    {
      "cell_type": "code",
      "execution_count": null,
      "metadata": {
        "id": "t45rltZtLo_d"
      },
      "outputs": [],
      "source": [
        "# you can either code here your own explorations or just use the interactive diagrams above"
      ]
    },
    {
      "cell_type": "markdown",
      "metadata": {
        "id": "i25DgdnXNvlS"
      },
      "source": [
        "## Forecast Validation"
      ]
    },
    {
      "cell_type": "markdown",
      "metadata": {
        "id": "q12zphWeXa8L"
      },
      "source": [
        "With time series data, Cross Validation is done by defining a sliding window across the historical data and predicting the period following it. This form of cross-validation allows us to arrive at a better estimation of our model’s predictive abilities across a wider range of temporal instances while also keeping the data in the training set contiguous as is required by our models."
      ]
    },
    {
      "cell_type": "code",
      "execution_count": null,
      "metadata": {
        "colab": {
          "base_uri": "https://localhost:8080/",
          "height": 442
        },
        "id": "uEZM7PQgNyeH",
        "outputId": "4532623a-802f-42ff-ee5a-72a34e00f2c3"
      },
      "outputs": [],
      "source": [
        "from IPython.display import Image\n",
        "Image(url=\"https://raw.githubusercontent.com/Nixtla/statsforecast/main/nbs/imgs/ChainedWindows.gif\")"
      ]
    },
    {
      "cell_type": "markdown",
      "metadata": {
        "id": "UtXkVBcGOmZ1"
      },
      "source": [
        "The cross_validation method from the StatsForecast class takes the following arguments.\n",
        "\n",
        "- `df`: training data frame\n",
        "\n",
        "- `h (int)`: represents h steps into the future that are being forecasted. In our case 24 months\n",
        "\n",
        "- `step_size (int)`: step size between each window. In other words: how often do you want to run the forecasting processes.\n",
        "\n",
        "- `n_windows(int)`: number of windows used for cross validation. In other words: what number of forecasting processes in the past do you want to evaluate."
      ]
    },
    {
      "cell_type": "code",
      "execution_count": null,
      "metadata": {
        "id": "73IslhIIOaOM"
      },
      "outputs": [],
      "source": [
        "# this takes some time...\n",
        "cv_df = sf.cross_validation(\n",
        "    df=Y_df,\n",
        "    h=24,\n",
        "    step_size=24, # try step_size 12 as well -> overlapping windows\n",
        "    n_windows=4\n",
        ")"
      ]
    },
    {
      "cell_type": "code",
      "execution_count": null,
      "metadata": {
        "colab": {
          "base_uri": "https://localhost:8080/",
          "height": 221
        },
        "id": "kiM7O9_gO6PC",
        "outputId": "f40fa5b0-163d-4c07-dd5e-60559cb8e23d"
      },
      "outputs": [],
      "source": [
        "# you can check the resulting windows of the sliding window validation\n",
        "windows = cv_df.group_by(\"cutoff\").agg(pl.col(\"ds\").max()).sort(\"cutoff\")\n",
        "windows"
      ]
    },
    {
      "cell_type": "code",
      "execution_count": null,
      "metadata": {
        "colab": {
          "base_uri": "https://localhost:8080/",
          "height": 542
        },
        "id": "qxkweoZcPrby",
        "outputId": "6267fe2d-1fb4-4bb2-fe0a-e0ee5cf9097f"
      },
      "outputs": [],
      "source": [
        "# visualize the windows\n",
        "colors = [\"blue\", \"orange\", \"springgreen\", \"violet\"]\n",
        "fig = px.line(Y_df.group_by(\"ds\").agg(pl.col(\"y\").sum()).sort(\"ds\"), x=\"ds\", y=\"y\")\n",
        "for idx, window in enumerate(windows.rows()):\n",
        "    fig.add_vrect(x0=window[0], x1=window[1], fillcolor=colors[idx%len(colors)], opacity=0.2)\n",
        "fig"
      ]
    },
    {
      "cell_type": "markdown",
      "metadata": {
        "id": "Qx9-_oAEXx19"
      },
      "source": [
        "Look at the data and the windows. Will this validation be representative?"
      ]
    },
    {
      "cell_type": "markdown",
      "metadata": {
        "id": "DhpqnktcYJpO"
      },
      "source": [
        "There are several error metrics we can use to evaluate the models based on the forecast from the sliding window validation.\n",
        "\n",
        "- **Mean Absolute Error**: [`mae`](https://nixtlaverse.nixtla.io/utilsforecast/losses.html#mean-absolute-error-mae)\n",
        "- **Root Mean Squared Error**: [`rmse`](https://nixtlaverse.nixtla.io/utilsforecast/losses.html#root-mean-squared-error)\n",
        "- **Bias**: [`bias`](https://nixtlaverse.nixtla.io/utilsforecast/losses.html#bias), use this to check if the model's forecasts are biased\n",
        "- **Mean Average Percentage Error**: [`mape`](https://nixtlaverse.nixtla.io/utilsforecast/losses.html#mean-absolute-percentage-error), use this only for communication with stakeholders, not for choosing or comparing models"
      ]
    },
    {
      "cell_type": "code",
      "execution_count": null,
      "metadata": {
        "id": "FvJE4np3QgDK"
      },
      "outputs": [],
      "source": [
        "from utilsforecast.losses import rmse, mae, mape, bias"
      ]
    },
    {
      "cell_type": "code",
      "execution_count": null,
      "metadata": {
        "id": "5vDEgywyVrry"
      },
      "outputs": [],
      "source": [
        "def evaluate_cv(df, metric):\n",
        "    models = [c for c in df.columns if c not in ('unique_id', 'ds', 'cutoff', 'y')]\n",
        "    evals = metric(cv_df, models=models)\n",
        "    pos2model = dict(enumerate(models))\n",
        "    return evals.with_columns(\n",
        "        best_model=pl.concat_list(models).list.arg_min().replace_strict(pos2model)\n",
        "    ).with_columns(pl.selectors.float().round(2))"
      ]
    },
    {
      "cell_type": "code",
      "execution_count": null,
      "metadata": {
        "colab": {
          "base_uri": "https://localhost:8080/",
          "height": 252
        },
        "id": "bvg8ng8vVx9A",
        "outputId": "5e3c471e-d59a-481f-ccdb-cf2ab2359f3f"
      },
      "outputs": [],
      "source": [
        "evaluation_df = evaluate_cv(cv_df, rmse) # you can try different metrics here\n",
        "evaluation_df.head()"
      ]
    }
  ],
  "metadata": {
    "colab": {
      "provenance": []
    },
    "kernelspec": {
      "display_name": "Python 3",
      "name": "python3"
    },
    "language_info": {
      "name": "python"
    }
  },
  "nbformat": 4,
  "nbformat_minor": 0
}
