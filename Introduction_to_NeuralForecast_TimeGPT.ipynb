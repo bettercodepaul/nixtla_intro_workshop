{
  "cells": [
    {
      "cell_type": "markdown",
      "metadata": {},
      "source": [
        "<a target=\"_blank\" href=\"https://colab.research.google.com/github/bettercodepaul/nixtla_intro_workshop/blob/main/Introduction_to_NeuralForecast_TimeGPT.ipynb\">\n",
        "    <img src=\"https://colab.research.google.com/assets/colab-badge.svg\" alt=\"Open In Colab\"/>\n",
        "</a>"
      ]
    },
    {
      "cell_type": "markdown",
      "metadata": {
        "id": "cLXb0BBRFy7C"
      },
      "source": [
        "# Forecasting with Nixtla's NeuralForecast and TimeGPT\n",
        "\n",
        "This notebook walks you through the very basics of forecasting time series with Nixtla's NeuralForecast and its foundation model TimeGPT."
      ]
    },
    {
      "cell_type": "markdown",
      "metadata": {
        "id": "IQ7KgpyEGTs5"
      },
      "source": [
        "## Install and import necessary libraries\n",
        "\n",
        "We use [Polars](https://docs.pola.rs/) for data wrangling, [Plotly](https://plotly.com/python/plotly-express/) for visualizations and Nixtla's [NeuralForecast](https://nixtlaverse.nixtla.io/neuralforecast/docs/getting-started/introduction.html) and [TimeGPT](https://www.nixtla.io/docs/introduction/introduction) for time series forecasting."
      ]
    },
    {
      "cell_type": "code",
      "execution_count": null,
      "metadata": {
        "colab": {
          "base_uri": "https://localhost:8080/"
        },
        "id": "wK4r_pvhQDOi",
        "outputId": "e8ba7b6c-263a-4d17-81c9-0e5c67e9ab91"
      },
      "outputs": [],
      "source": [
        "pip -q install neuralforecast nixtla polars plotly"
      ]
    },
    {
      "cell_type": "code",
      "execution_count": null,
      "metadata": {
        "id": "LWDpn06iP2VY"
      },
      "outputs": [],
      "source": [
        "import polars as pl\n",
        "import plotly.express as px\n",
        "from datetime import date\n",
        "\n",
        "from neuralforecast import NeuralForecast\n",
        "from neuralforecast.models import NBEATS, NHITS\n",
        "from nixtla import NixtlaClient\n",
        "\n",
        "from utilsforecast.plotting import plot_series"
      ]
    },
    {
      "cell_type": "markdown",
      "metadata": {
        "id": "hLlGahZqHq4O"
      },
      "source": [
        "## Create a TimeGPT account and generate your API key\n",
        "\n",
        "- Visit [dashboard.nixtla.io](https://dashboard.nixtla.io) to activate your free trial and create an account.\n",
        "- Sign in using Google, GitHub, or your email.\n",
        "- Navigate to API Keys in the menu and select Create New API Key.\n",
        "- Your new API key will appear on the screen. Copy this key using the button on the right.\n",
        "- Add it to your Google Colab secrets on the left"
      ]
    },
    {
      "cell_type": "code",
      "execution_count": null,
      "metadata": {},
      "outputs": [],
      "source": [
        "# Get Nixtla API from user secrets on Google Colab\n",
        "# If you are not using Google Colab, replace this with your own method\n",
        "from google.colab import userdata\n",
        "nixtla_api_key = userdata.get('NIXTLA_API_KEY')"
      ]
    },
    {
      "cell_type": "code",
      "execution_count": null,
      "metadata": {
        "colab": {
          "base_uri": "https://localhost:8080/"
        },
        "id": "gt44EE72INow",
        "outputId": "eebe37c8-d2b1-4148-b8ea-21b39dc51899"
      },
      "outputs": [],
      "source": [
        "nixtla_client = NixtlaClient(\n",
        "    api_key=nixtla_api_key\n",
        ")\n",
        "assert nixtla_client.validate_api_key()"
      ]
    },
    {
      "cell_type": "markdown",
      "metadata": {
        "id": "us-tgF0XGoy7"
      },
      "source": [
        "## Load the data\n",
        "\n",
        "The data for this walk through is simple monthly sales data from various countries."
      ]
    },
    {
      "cell_type": "code",
      "execution_count": null,
      "metadata": {
        "colab": {
          "base_uri": "https://localhost:8080/",
          "height": 252
        },
        "id": "-qgnbWMtP7w3",
        "outputId": "66f8a7b8-5529-4306-a671-99bfdbb87fb0"
      },
      "outputs": [],
      "source": [
        "Y_df = pl.read_parquet(\"https://github.com/bettercodepaul/nixtla_intro_workshop/raw/refs/heads/main/retail_sales.parquet\")\n",
        "Y_df.sample(5)"
      ]
    },
    {
      "cell_type": "code",
      "execution_count": null,
      "metadata": {
        "colab": {
          "base_uri": "https://localhost:8080/",
          "height": 862
        },
        "id": "IwZEUqsCIbXZ",
        "outputId": "c9d43aed-d0ca-4baa-89fa-f769452b491a"
      },
      "outputs": [],
      "source": [
        "nixtla_client.plot(Y_df)"
      ]
    },
    {
      "cell_type": "markdown",
      "metadata": {},
      "source": [
        "## Forecast using NeuralForecast"
      ]
    },
    {
      "cell_type": "code",
      "execution_count": null,
      "metadata": {},
      "outputs": [],
      "source": [
        "# Split the data into training and test sets\n",
        "last_training_year = 2017\n",
        "validation_years = 2\n",
        "Y_train_df = Y_df.filter(pl.col(\"ds\").dt.year().le(last_training_year))\n",
        "Y_validation_df = Y_df.filter(pl.col(\"ds\").dt.year().is_between(last_training_year + 1, last_training_year + validation_years))"
      ]
    },
    {
      "cell_type": "code",
      "execution_count": null,
      "metadata": {},
      "outputs": [],
      "source": [
        "## Make a forecast with the neural network models NHITS and NBEATS\n",
        "horizon = Y_validation_df.select(pl.col(\"ds\").n_unique()).item(0, 0)\n",
        "models = [NBEATS(input_size=2 * horizon, h=horizon, max_steps=100, enable_progress_bar=False),\n",
        "          NHITS(input_size=2 * horizon, h=horizon, max_steps=100, enable_progress_bar=False)]\n",
        "nf = NeuralForecast(models=models, freq='1mo')\n",
        "nf.fit(df=Y_train_df)\n",
        "Y_hat_df = nf.predict()"
      ]
    },
    {
      "cell_type": "code",
      "execution_count": null,
      "metadata": {},
      "outputs": [],
      "source": [
        "# Plot predictions\n",
        "plot_series(Y_df.filter(pl.col(\"ds\").le(Y_validation_df.get_column(\"ds\").max())), Y_hat_df, engine=\"plotly\")"
      ]
    },
    {
      "cell_type": "markdown",
      "metadata": {},
      "source": [
        "## Forecast using TimeGPT\n",
        "\n",
        "TimeGPT is a foundation model that has been trained on a large number of time series datasets. It can be used to make forecasts without training on the specific dataset."
      ]
    },
    {
      "cell_type": "code",
      "execution_count": null,
      "metadata": {
        "colab": {
          "base_uri": "https://localhost:8080/",
          "height": 252
        },
        "id": "Ii0PcMtFInPF",
        "outputId": "b9aeb8e7-88a9-48b9-e978-f8a0e922eb7d"
      },
      "outputs": [],
      "source": [
        "# Make a forecast\n",
        "Y_hat_timegpt_df = nixtla_client.forecast(\n",
        "    df=Y_train_df,\n",
        "    h=horizon,\n",
        "    freq=\"1mo\",\n",
        ")\n",
        "Y_hat_timegpt_df.head()"
      ]
    },
    {
      "cell_type": "code",
      "execution_count": null,
      "metadata": {
        "colab": {
          "base_uri": "https://localhost:8080/",
          "height": 849
        },
        "id": "oGUfm-a1I_GK",
        "outputId": "0c8d03ee-5906-4db4-d0a7-dc506dbe759a"
      },
      "outputs": [],
      "source": [
        "# Plot the forecast\n",
        "plot_series(Y_df.filter(pl.col(\"ds\").le(Y_validation_df.get_column(\"ds\").max())), Y_hat_timegpt_df, engine=\"plotly\")"
      ]
    },
    {
      "cell_type": "markdown",
      "metadata": {},
      "source": [
        "The default model does not support long horizons. We can use the long-horizon model instead."
      ]
    },
    {
      "cell_type": "code",
      "execution_count": null,
      "metadata": {},
      "outputs": [],
      "source": [
        "Y_hat_timegpt_long_horizon_df = nixtla_client.forecast(\n",
        "    df=Y_train_df,\n",
        "    h=horizon,\n",
        "    freq=\"1mo\",\n",
        "    model=\"timegpt-1-long-horizon\"\n",
        ")\n",
        "Y_hat_timegpt_long_horizon_df.head()"
      ]
    },
    {
      "cell_type": "code",
      "execution_count": null,
      "metadata": {},
      "outputs": [],
      "source": [
        "plot_series(Y_df.filter(pl.col(\"ds\").le(Y_validation_df.get_column(\"ds\").max())), Y_hat_timegpt_long_horizon_df, engine=\"plotly\")"
      ]
    },
    {
      "cell_type": "markdown",
      "metadata": {
        "id": "_QKZDZv7H5Es"
      },
      "source": [
        "# Hands-on\n",
        "\n",
        "- Compare TimeGPT and the neural network models\n",
        "- Try different cut-offs and check if it gets better to catch the seasonality.\n",
        "- Compare with the results from the first notebook\n",
        "- Try what you always wanted to try using time series!"
      ]
    },
    {
      "cell_type": "code",
      "execution_count": null,
      "metadata": {
        "id": "RI_G2Q2EIi8V"
      },
      "outputs": [],
      "source": [
        "# you can code here!"
      ]
    },
    {
      "cell_type": "code",
      "execution_count": null,
      "metadata": {
        "id": "1UEGAxBcJjZR"
      },
      "outputs": [],
      "source": []
    }
  ],
  "metadata": {
    "colab": {
      "provenance": []
    },
    "kernelspec": {
      "display_name": ".venv",
      "language": "python",
      "name": "python3"
    },
    "language_info": {
      "codemirror_mode": {
        "name": "ipython",
        "version": 3
      },
      "file_extension": ".py",
      "mimetype": "text/x-python",
      "name": "python",
      "nbconvert_exporter": "python",
      "pygments_lexer": "ipython3",
      "version": "3.11.11"
    }
  },
  "nbformat": 4,
  "nbformat_minor": 0
}
