{
  "cells": [
    {
      "cell_type": "markdown",
      "metadata": {},
      "source": [
        "<a target=\"_blank\" href=\"https://colab.research.google.com/github/bettercodepaul/nixtla_intro_workshop/blob/main/Introduction_to_TimeGPT.ipynb\">\n",
        "    <img src=\"https://colab.research.google.com/assets/colab-badge.svg\" alt=\"Open In Colab\"/>\n",
        "</a>"
      ]
    },
    {
      "cell_type": "markdown",
      "metadata": {
        "id": "cLXb0BBRFy7C"
      },
      "source": [
        "# Forecasting with Nixtla's TimeGPT\n",
        "\n",
        "This notebook walks you through the very basics of forecasting time series with Nixtla's foundation model TimeGPT."
      ]
    },
    {
      "cell_type": "markdown",
      "metadata": {
        "id": "IQ7KgpyEGTs5"
      },
      "source": [
        "## Install and import necessary libraries\n",
        "\n",
        "We use [Polars](https://docs.pola.rs/) for data wrangling, [Plotly](https://plotly.com/python/plotly-express/) for visualizations and Nixtla's [TimeGPT](https://www.nixtla.io/docs/introduction/introduction) for basic time series forecasting."
      ]
    },
    {
      "cell_type": "code",
      "execution_count": null,
      "metadata": {
        "colab": {
          "base_uri": "https://localhost:8080/"
        },
        "id": "wK4r_pvhQDOi",
        "outputId": "e8ba7b6c-263a-4d17-81c9-0e5c67e9ab91"
      },
      "outputs": [],
      "source": [
        "pip -q install nixtla polars plotly"
      ]
    },
    {
      "cell_type": "code",
      "execution_count": null,
      "metadata": {
        "id": "LWDpn06iP2VY"
      },
      "outputs": [],
      "source": [
        "import polars as pl\n",
        "import plotly.express as px\n",
        "from datetime import date"
      ]
    },
    {
      "cell_type": "code",
      "execution_count": null,
      "metadata": {
        "id": "ywYCP_CMIGiD"
      },
      "outputs": [],
      "source": [
        "from google.colab import userdata"
      ]
    },
    {
      "cell_type": "markdown",
      "metadata": {
        "id": "hLlGahZqHq4O"
      },
      "source": [
        "## Create a TimeGPT account and generate your API key\n",
        "\n",
        "- Visit [dashboard.nixtla.io](https://dashboard.nixtla.io) to activate your free trial and create an account.\n",
        "- Sign in using Google, GitHub, or your email.\n",
        "- Navigate to API Keys in the menu and select Create New API Key.\n",
        "- Your new API key will appear on the screen. Copy this key using the button on the right.\n",
        "- Add it to your Google Colab secrets on the left"
      ]
    },
    {
      "cell_type": "code",
      "execution_count": null,
      "metadata": {
        "colab": {
          "base_uri": "https://localhost:8080/"
        },
        "id": "gt44EE72INow",
        "outputId": "eebe37c8-d2b1-4148-b8ea-21b39dc51899"
      },
      "outputs": [],
      "source": [
        "from nixtla import NixtlaClient\n",
        "\n",
        "nixtla_client = NixtlaClient(\n",
        "    api_key=userdata.get('NIXTLA_API_KEY')\n",
        ")\n",
        "nixtla_client.validate_api_key()"
      ]
    },
    {
      "cell_type": "markdown",
      "metadata": {
        "id": "us-tgF0XGoy7"
      },
      "source": [
        "## Load the data\n",
        "\n",
        "The data for this walk through is simple monthly sales data from various countries."
      ]
    },
    {
      "cell_type": "code",
      "execution_count": null,
      "metadata": {
        "colab": {
          "base_uri": "https://localhost:8080/",
          "height": 252
        },
        "id": "-qgnbWMtP7w3",
        "outputId": "66f8a7b8-5529-4306-a671-99bfdbb87fb0"
      },
      "outputs": [],
      "source": [
        "df = pl.read_parquet(\"https://github.com/bettercodepaul/nixtla_intro_workshop/raw/refs/heads/main/retail_sales.parquet\")\n",
        "df.sample(5)"
      ]
    },
    {
      "cell_type": "code",
      "execution_count": null,
      "metadata": {
        "colab": {
          "base_uri": "https://localhost:8080/",
          "height": 862
        },
        "id": "IwZEUqsCIbXZ",
        "outputId": "c9d43aed-d0ca-4baa-89fa-f769452b491a"
      },
      "outputs": [],
      "source": [
        "nixtla_client.plot(df, time_col='date', target_col='sales', id_col=\"country\")"
      ]
    },
    {
      "cell_type": "code",
      "execution_count": null,
      "metadata": {
        "colab": {
          "base_uri": "https://localhost:8080/",
          "height": 252
        },
        "id": "Ii0PcMtFInPF",
        "outputId": "b9aeb8e7-88a9-48b9-e978-f8a0e922eb7d"
      },
      "outputs": [],
      "source": [
        "# Make a forecast\n",
        "timegpt_fcst_df = nixtla_client.forecast(\n",
        "    df=df,\n",
        "    h=12,\n",
        "    freq=\"1mo\",\n",
        "    time_col=\"date\",\n",
        "    target_col=\"sales\",\n",
        "    id_col=\"country\"\n",
        ")\n",
        "timegpt_fcst_df.head()"
      ]
    },
    {
      "cell_type": "code",
      "execution_count": null,
      "metadata": {
        "colab": {
          "base_uri": "https://localhost:8080/",
          "height": 849
        },
        "id": "oGUfm-a1I_GK",
        "outputId": "0c8d03ee-5906-4db4-d0a7-dc506dbe759a"
      },
      "outputs": [],
      "source": [
        "# Plot the forecast\n",
        "nixtla_client.plot(df, timegpt_fcst_df, time_col=\"date\", target_col=\"sales\", id_col=\"country\")"
      ]
    },
    {
      "cell_type": "markdown",
      "metadata": {
        "id": "_QKZDZv7H5Es"
      },
      "source": [
        "# Hands-on\n",
        "\n",
        "- Try different cut-offs and check if it gets better to catch the seasonality.\n",
        "- Compare with the results from the first notebook\n",
        "- Try what you always wanted to try using time series!"
      ]
    },
    {
      "cell_type": "code",
      "execution_count": null,
      "metadata": {
        "id": "RI_G2Q2EIi8V"
      },
      "outputs": [],
      "source": [
        "# you can code here!"
      ]
    },
    {
      "cell_type": "code",
      "execution_count": null,
      "metadata": {
        "id": "1UEGAxBcJjZR"
      },
      "outputs": [],
      "source": []
    }
  ],
  "metadata": {
    "colab": {
      "provenance": []
    },
    "kernelspec": {
      "display_name": "Python 3",
      "name": "python3"
    },
    "language_info": {
      "name": "python"
    }
  },
  "nbformat": 4,
  "nbformat_minor": 0
}
